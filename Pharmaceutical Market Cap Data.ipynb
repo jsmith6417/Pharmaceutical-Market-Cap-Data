{
 "cells": [
  {
   "cell_type": "markdown",
   "metadata": {},
   "source": [
    "# **Pharmaceutical Market Cap Data**"
   ]
  },
  {
   "cell_type": "markdown",
   "metadata": {},
   "source": [
    "Run on Python 3.12 | No errors | No warnings"
   ]
  },
  {
   "cell_type": "markdown",
   "metadata": {},
   "source": [
    "Data Source: https://companiesmarketcap.com/"
   ]
  },
  {
   "cell_type": "markdown",
   "metadata": {},
   "source": [
    "This program is designed to connect to a website that blocks non-browser requests to download a dataset. By adding code that mimics a browser request, the program successfully connects and loads the CSV file directly into a Python DataFrame. Once the data is loaded, the review and cleaning process follows standard procedures.\n",
    "\n",
    "The primary objective is to compare the combined market capitalization of Eli Lilly and Novo Nordisk to the combined market capitalization of GSK (GlaxoSmithKline), J&J (Johnson & Johnson), Merck, Novartis, Pfizer, and Roche. \n",
    "\n",
    "Eli Lilly and Novo Nordisk together have a greater market capitalization than the combined total of the other six companies, and this gap continues to widen. This strong performance is driven primarily by four peptides: dulaglutide (Trulicity), liraglutide (Victoza and Saxenda), semaglutide (Ozempic, Rybelsus, and Wegovy), and tirzepatide (Mounjaro and Zepbound)."
   ]
  },
  {
   "cell_type": "code",
   "execution_count": 1,
   "metadata": {},
   "outputs": [],
   "source": [
    "# Import packages\n",
    "\n",
    "# For data manipulation\n",
    "import pandas as pd\n",
    "\n",
    "# For making HTTP requests and handling responses\n",
    "import requests as req\n",
    "\n",
    "# For creating in-memory text streams\n",
    "from io import StringIO as sio"
   ]
  },
  {
   "cell_type": "code",
   "execution_count": 2,
   "metadata": {},
   "outputs": [
    {
     "name": "stdout",
     "output_type": "stream",
     "text": [
      "                Name      marketcap  price (USD)\n",
      "0          Microsoft  3360593281024       452.16\n",
      "1              Apple  3269996838912       213.25\n",
      "2             NVIDIA  3109225234432       126.40\n",
      "3  Alphabet (Google)  2280162328576       185.37\n",
      "4             Amazon  2014821744640       193.61\n"
     ]
    }
   ],
   "source": [
    "# Connect to the website and download the CSV file\n",
    "\n",
    "# URL of the CSV file\n",
    "url = 'https://companiesmarketcap.com/?download=csv'\n",
    "\n",
    "# Set headers to mimic a browser request\n",
    "headers = {\n",
    "    'User-Agent': 'Mozilla/5.0 (Windows NT 10.0; Win64; x64) AppleWebKit/537.36 (KHTML, like Gecko) Chrome/91.0.4472.124 Safari/537.36'\n",
    "}\n",
    "\n",
    "# Send a GET request\n",
    "response = req.get(url, headers=headers)\n",
    "\n",
    "# Check if the request was successful\n",
    "if response.status_code == 200:\n",
    "    # Read the content into a pandas DataFrame\n",
    "    csv_data = sio(response.text)\n",
    "    df0 = pd.read_csv(csv_data, usecols=['Name', 'marketcap', 'price (USD)'])\n",
    "    print(df0.head())  # Display the first few rows\n",
    "else: # If the request was unsuccessful\n",
    "    print(f\"Failed to retrieve the CSV file. Status code: {response.status_code}\")"
   ]
  },
  {
   "cell_type": "code",
   "execution_count": 3,
   "metadata": {},
   "outputs": [
    {
     "name": "stdout",
     "output_type": "stream",
     "text": [
      "<class 'pandas.core.frame.DataFrame'>\n",
      "RangeIndex: 8552 entries, 0 to 8551\n",
      "Data columns (total 3 columns):\n",
      " #   Column       Non-Null Count  Dtype  \n",
      "---  ------       --------------  -----  \n",
      " 0   Name         8552 non-null   object \n",
      " 1   marketcap    8552 non-null   int64  \n",
      " 2   price (USD)  8552 non-null   float64\n",
      "dtypes: float64(1), int64(1), object(1)\n",
      "memory usage: 200.6+ KB\n"
     ]
    }
   ],
   "source": [
    "# Display basic information about the data \n",
    "df0.info()"
   ]
  },
  {
   "cell_type": "code",
   "execution_count": 4,
   "metadata": {},
   "outputs": [],
   "source": [
    "# Specify the rows we want to keep. Delete the rest.\n",
    "\n",
    "# Create a list of companies to keep\n",
    "companies_to_keep = ['Eli Lilly', 'GlaxoSmithKline', 'Johnson & Johnson', 'Merck', 'Novartis', 'Novo Nordisk', 'Pfizer', 'Roche']\n",
    "\n",
    "# Create a mask to filter the rows\n",
    "mask = df0['Name'].isin(companies_to_keep)\n",
    "\n",
    "# Drop the rows that are not in the list\n",
    "df0.drop(df0[~mask].index, inplace=True)"
   ]
  },
  {
   "cell_type": "code",
   "execution_count": 5,
   "metadata": {},
   "outputs": [
    {
     "data": {
      "text/html": [
       "<div>\n",
       "<style scoped>\n",
       "    .dataframe tbody tr th:only-of-type {\n",
       "        vertical-align: middle;\n",
       "    }\n",
       "\n",
       "    .dataframe tbody tr th {\n",
       "        vertical-align: top;\n",
       "    }\n",
       "\n",
       "    .dataframe thead th {\n",
       "        text-align: right;\n",
       "    }\n",
       "</style>\n",
       "<table border=\"1\" class=\"dataframe\">\n",
       "  <thead>\n",
       "    <tr style=\"text-align: right;\">\n",
       "      <th></th>\n",
       "      <th>Name</th>\n",
       "      <th>marketcap</th>\n",
       "      <th>price (USD)</th>\n",
       "    </tr>\n",
       "  </thead>\n",
       "  <tbody>\n",
       "    <tr>\n",
       "      <th>9</th>\n",
       "      <td>Eli Lilly</td>\n",
       "      <td>811498995712</td>\n",
       "      <td>901.260</td>\n",
       "    </tr>\n",
       "    <tr>\n",
       "      <th>11</th>\n",
       "      <td>Novo Nordisk</td>\n",
       "      <td>644154523648</td>\n",
       "      <td>143.670</td>\n",
       "    </tr>\n",
       "    <tr>\n",
       "      <th>26</th>\n",
       "      <td>Johnson &amp; Johnson</td>\n",
       "      <td>353348780032</td>\n",
       "      <td>146.820</td>\n",
       "    </tr>\n",
       "    <tr>\n",
       "      <th>28</th>\n",
       "      <td>Merck</td>\n",
       "      <td>333064503296</td>\n",
       "      <td>131.500</td>\n",
       "    </tr>\n",
       "    <tr>\n",
       "      <th>49</th>\n",
       "      <td>Roche</td>\n",
       "      <td>224627216405</td>\n",
       "      <td>278.171</td>\n",
       "    </tr>\n",
       "    <tr>\n",
       "      <th>52</th>\n",
       "      <td>Novartis</td>\n",
       "      <td>218466697216</td>\n",
       "      <td>107.070</td>\n",
       "    </tr>\n",
       "    <tr>\n",
       "      <th>88</th>\n",
       "      <td>Pfizer</td>\n",
       "      <td>155377909760</td>\n",
       "      <td>27.420</td>\n",
       "    </tr>\n",
       "    <tr>\n",
       "      <th>215</th>\n",
       "      <td>GlaxoSmithKline</td>\n",
       "      <td>79931875328</td>\n",
       "      <td>38.870</td>\n",
       "    </tr>\n",
       "  </tbody>\n",
       "</table>\n",
       "</div>"
      ],
      "text/plain": [
       "                  Name     marketcap  price (USD)\n",
       "9            Eli Lilly  811498995712      901.260\n",
       "11        Novo Nordisk  644154523648      143.670\n",
       "26   Johnson & Johnson  353348780032      146.820\n",
       "28               Merck  333064503296      131.500\n",
       "49               Roche  224627216405      278.171\n",
       "52            Novartis  218466697216      107.070\n",
       "88              Pfizer  155377909760       27.420\n",
       "215    GlaxoSmithKline   79931875328       38.870"
      ]
     },
     "execution_count": 5,
     "metadata": {},
     "output_type": "execute_result"
    }
   ],
   "source": [
    "# Display all rows of the dataframe to make sure we have the 8 companies we want and that no values are missing\n",
    "df0.head(8)"
   ]
  },
  {
   "cell_type": "code",
   "execution_count": 6,
   "metadata": {},
   "outputs": [
    {
     "name": "stdout",
     "output_type": "stream",
     "text": [
      "<class 'pandas.core.frame.DataFrame'>\n",
      "Index: 8 entries, 9 to 215\n",
      "Data columns (total 3 columns):\n",
      " #   Column       Non-Null Count  Dtype  \n",
      "---  ------       --------------  -----  \n",
      " 0   Name         8 non-null      object \n",
      " 1   marketcap    8 non-null      int64  \n",
      " 2   price (USD)  8 non-null      float64\n",
      "dtypes: float64(1), int64(1), object(1)\n",
      "memory usage: 256.0+ bytes\n"
     ]
    }
   ],
   "source": [
    "# Display basic information about the data \n",
    "df0.info()"
   ]
  },
  {
   "cell_type": "code",
   "execution_count": 7,
   "metadata": {},
   "outputs": [
    {
     "data": {
      "text/html": [
       "<div>\n",
       "<style scoped>\n",
       "    .dataframe tbody tr th:only-of-type {\n",
       "        vertical-align: middle;\n",
       "    }\n",
       "\n",
       "    .dataframe tbody tr th {\n",
       "        vertical-align: top;\n",
       "    }\n",
       "\n",
       "    .dataframe thead th {\n",
       "        text-align: right;\n",
       "    }\n",
       "</style>\n",
       "<table border=\"1\" class=\"dataframe\">\n",
       "  <thead>\n",
       "    <tr style=\"text-align: right;\">\n",
       "      <th></th>\n",
       "      <th>Name</th>\n",
       "      <th>marketcap</th>\n",
       "      <th>price (USD)</th>\n",
       "    </tr>\n",
       "  </thead>\n",
       "  <tbody>\n",
       "    <tr>\n",
       "      <th>9</th>\n",
       "      <td>Eli Lilly</td>\n",
       "      <td>811498995712</td>\n",
       "      <td>901.260</td>\n",
       "    </tr>\n",
       "    <tr>\n",
       "      <th>11</th>\n",
       "      <td>Novo Nordisk</td>\n",
       "      <td>644154523648</td>\n",
       "      <td>143.670</td>\n",
       "    </tr>\n",
       "    <tr>\n",
       "      <th>26</th>\n",
       "      <td>Johnson &amp; Johnson</td>\n",
       "      <td>353348780032</td>\n",
       "      <td>146.820</td>\n",
       "    </tr>\n",
       "    <tr>\n",
       "      <th>28</th>\n",
       "      <td>Merck</td>\n",
       "      <td>333064503296</td>\n",
       "      <td>131.500</td>\n",
       "    </tr>\n",
       "    <tr>\n",
       "      <th>49</th>\n",
       "      <td>Roche</td>\n",
       "      <td>224627216405</td>\n",
       "      <td>278.171</td>\n",
       "    </tr>\n",
       "    <tr>\n",
       "      <th>52</th>\n",
       "      <td>Novartis</td>\n",
       "      <td>218466697216</td>\n",
       "      <td>107.070</td>\n",
       "    </tr>\n",
       "    <tr>\n",
       "      <th>88</th>\n",
       "      <td>Pfizer</td>\n",
       "      <td>155377909760</td>\n",
       "      <td>27.420</td>\n",
       "    </tr>\n",
       "    <tr>\n",
       "      <th>215</th>\n",
       "      <td>GlaxoSmithKline</td>\n",
       "      <td>79931875328</td>\n",
       "      <td>38.870</td>\n",
       "    </tr>\n",
       "  </tbody>\n",
       "</table>\n",
       "</div>"
      ],
      "text/plain": [
       "                  Name     marketcap  price (USD)\n",
       "9            Eli Lilly  811498995712      901.260\n",
       "11        Novo Nordisk  644154523648      143.670\n",
       "26   Johnson & Johnson  353348780032      146.820\n",
       "28               Merck  333064503296      131.500\n",
       "49               Roche  224627216405      278.171\n",
       "52            Novartis  218466697216      107.070\n",
       "88              Pfizer  155377909760       27.420\n",
       "215    GlaxoSmithKline   79931875328       38.870"
      ]
     },
     "execution_count": 7,
     "metadata": {},
     "output_type": "execute_result"
    }
   ],
   "source": [
    "# Display the first 8 rows of the dataframe\n",
    "df0.head(8)"
   ]
  },
  {
   "cell_type": "code",
   "execution_count": 8,
   "metadata": {},
   "outputs": [],
   "source": [
    "# Create a new column for Market Cap in Billions USD\n",
    "df0['Market Cap (Billions USD)'] = df0['marketcap'] / 1000000000"
   ]
  },
  {
   "cell_type": "code",
   "execution_count": 9,
   "metadata": {},
   "outputs": [],
   "source": [
    "# Round the values in the 'Market Cap (Billions USD)' column to 2 decimal places\n",
    "df0['Market Cap (Billions USD)'] = df0['Market Cap (Billions USD)'].round(2)"
   ]
  },
  {
   "cell_type": "code",
   "execution_count": 10,
   "metadata": {},
   "outputs": [],
   "source": [
    "# Drop the old marketcap column as it's no longer needed\n",
    "df0.drop(['marketcap'], axis=1, inplace=True)"
   ]
  },
  {
   "cell_type": "code",
   "execution_count": 11,
   "metadata": {},
   "outputs": [],
   "source": [
    "# Rename price (USD) to Share Price and Name to Company\n",
    "df0.rename(columns={'price (USD)': 'Share Price', 'Name': 'Company'}, inplace=True)"
   ]
  },
  {
   "cell_type": "code",
   "execution_count": 12,
   "metadata": {},
   "outputs": [],
   "source": [
    "# Add a column for year as a string (e.g. '2024')\n",
    "df0['Year'] = '2024'"
   ]
  },
  {
   "cell_type": "code",
   "execution_count": 13,
   "metadata": {},
   "outputs": [],
   "source": [
    "# Reindex the dataframe to restore a sequential index\n",
    "df0.reset_index(drop=True, inplace=True)"
   ]
  },
  {
   "cell_type": "code",
   "execution_count": 14,
   "metadata": {},
   "outputs": [],
   "source": [
    "# Rename GlaxoSmithKline to GSK\n",
    "df0['Company'] = df0['Company'].replace('GlaxoSmithKline', 'GSK')"
   ]
  },
  {
   "cell_type": "code",
   "execution_count": 15,
   "metadata": {},
   "outputs": [],
   "source": [
    "# Rename Johnson & Johnson to J&J\n",
    "df0['Company'] = df0['Company'].replace('Johnson & Johnson', 'J&J')"
   ]
  },
  {
   "cell_type": "code",
   "execution_count": 16,
   "metadata": {},
   "outputs": [],
   "source": [
    "# Sort the dataframe by Company\n",
    "df0.sort_values(by='Company', inplace=True)"
   ]
  },
  {
   "cell_type": "code",
   "execution_count": 17,
   "metadata": {},
   "outputs": [],
   "source": [
    "# Reorder the columns\n",
    "df0 = df0[['Company', 'Year', 'Market Cap (Billions USD)', 'Share Price']]"
   ]
  },
  {
   "cell_type": "code",
   "execution_count": 18,
   "metadata": {},
   "outputs": [
    {
     "data": {
      "text/html": [
       "<div>\n",
       "<style scoped>\n",
       "    .dataframe tbody tr th:only-of-type {\n",
       "        vertical-align: middle;\n",
       "    }\n",
       "\n",
       "    .dataframe tbody tr th {\n",
       "        vertical-align: top;\n",
       "    }\n",
       "\n",
       "    .dataframe thead th {\n",
       "        text-align: right;\n",
       "    }\n",
       "</style>\n",
       "<table border=\"1\" class=\"dataframe\">\n",
       "  <thead>\n",
       "    <tr style=\"text-align: right;\">\n",
       "      <th></th>\n",
       "      <th>Company</th>\n",
       "      <th>Year</th>\n",
       "      <th>Market Cap (Billions USD)</th>\n",
       "      <th>Share Price</th>\n",
       "    </tr>\n",
       "  </thead>\n",
       "  <tbody>\n",
       "    <tr>\n",
       "      <th>0</th>\n",
       "      <td>Eli Lilly</td>\n",
       "      <td>2024</td>\n",
       "      <td>811.50</td>\n",
       "      <td>901.260</td>\n",
       "    </tr>\n",
       "    <tr>\n",
       "      <th>7</th>\n",
       "      <td>GSK</td>\n",
       "      <td>2024</td>\n",
       "      <td>79.93</td>\n",
       "      <td>38.870</td>\n",
       "    </tr>\n",
       "    <tr>\n",
       "      <th>2</th>\n",
       "      <td>J&amp;J</td>\n",
       "      <td>2024</td>\n",
       "      <td>353.35</td>\n",
       "      <td>146.820</td>\n",
       "    </tr>\n",
       "    <tr>\n",
       "      <th>3</th>\n",
       "      <td>Merck</td>\n",
       "      <td>2024</td>\n",
       "      <td>333.06</td>\n",
       "      <td>131.500</td>\n",
       "    </tr>\n",
       "    <tr>\n",
       "      <th>5</th>\n",
       "      <td>Novartis</td>\n",
       "      <td>2024</td>\n",
       "      <td>218.47</td>\n",
       "      <td>107.070</td>\n",
       "    </tr>\n",
       "    <tr>\n",
       "      <th>1</th>\n",
       "      <td>Novo Nordisk</td>\n",
       "      <td>2024</td>\n",
       "      <td>644.15</td>\n",
       "      <td>143.670</td>\n",
       "    </tr>\n",
       "    <tr>\n",
       "      <th>6</th>\n",
       "      <td>Pfizer</td>\n",
       "      <td>2024</td>\n",
       "      <td>155.38</td>\n",
       "      <td>27.420</td>\n",
       "    </tr>\n",
       "    <tr>\n",
       "      <th>4</th>\n",
       "      <td>Roche</td>\n",
       "      <td>2024</td>\n",
       "      <td>224.63</td>\n",
       "      <td>278.171</td>\n",
       "    </tr>\n",
       "  </tbody>\n",
       "</table>\n",
       "</div>"
      ],
      "text/plain": [
       "        Company  Year  Market Cap (Billions USD)  Share Price\n",
       "0     Eli Lilly  2024                     811.50      901.260\n",
       "7           GSK  2024                      79.93       38.870\n",
       "2           J&J  2024                     353.35      146.820\n",
       "3         Merck  2024                     333.06      131.500\n",
       "5      Novartis  2024                     218.47      107.070\n",
       "1  Novo Nordisk  2024                     644.15      143.670\n",
       "6        Pfizer  2024                     155.38       27.420\n",
       "4         Roche  2024                     224.63      278.171"
      ]
     },
     "execution_count": 18,
     "metadata": {},
     "output_type": "execute_result"
    }
   ],
   "source": [
    "# Display the first 8 rows of the dataframe\n",
    "df0.head(8)"
   ]
  },
  {
   "cell_type": "code",
   "execution_count": 19,
   "metadata": {},
   "outputs": [],
   "source": [
    "# Write the cleaned data to a CSV file without the index\n",
    "df0.to_csv('Market Cap Data Cleaned.csv', index=False)"
   ]
  }
 ],
 "metadata": {
  "kernelspec": {
   "display_name": "Python 3",
   "language": "python",
   "name": "python3"
  },
  "language_info": {
   "codemirror_mode": {
    "name": "ipython",
    "version": 3
   },
   "file_extension": ".py",
   "mimetype": "text/x-python",
   "name": "python",
   "nbconvert_exporter": "python",
   "pygments_lexer": "ipython3",
   "version": "3.12.4"
  }
 },
 "nbformat": 4,
 "nbformat_minor": 2
}
